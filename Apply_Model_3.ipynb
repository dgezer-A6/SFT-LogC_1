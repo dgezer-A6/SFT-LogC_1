{
 "cells": [
  {
   "cell_type": "code",
   "execution_count": null,
   "id": "427fd5b9-0615-434c-8009-948b76fa7175",
   "metadata": {},
   "outputs": [],
   "source": [
    "import pickle\n",
    "import pandas\n",
    "import numpy\n",
    "from rdkit.Chem import Descriptors\n",
    "from rdkit.Chem import Descriptors3D\n",
    "from rdkit import Chem \n",
    "from rdkit.Chem import AllChem\n",
    "from math import log, log10\n",
    "import matplotlib.pyplot as plt"
   ]
  },
  {
   "cell_type": "code",
   "execution_count": null,
   "id": "d7060456-c9b5-4587-a198-83f9eaa8bd2b",
   "metadata": {},
   "outputs": [],
   "source": [
    "dataset= pandas.read_excel(\"Your File Path\")   # Write the file name or file path\n",
    "\n",
    "features_2d = []\n",
    "features_3d = []\n",
    "\n",
    "for i in dataset[\"SMILES\"]:\n",
    "    mol = Chem.MolToSmiles(Chem.MolFromSmiles(i))\n",
    "    mol = Chem.MolFromSmiles(mol)\n",
    "    mol_2=Chem.AddHs(mol)\n",
    "    AllChem.EmbedMolecule(mol_2, randomSeed = 511)\n",
    "    if AllChem.EmbedMolecule(mol_2, randomSeed = 511) == -1:\n",
    "        AllChem.EmbedMolecule(mol_2,useRandomCoords=True, randomSeed = 511)\n",
    "    AllChem.MMFFOptimizeMolecule(mol_2)\n",
    "    descriptor_values_2d = Descriptors.CalcMolDescriptors(mol).values()\n",
    "    descriptor_values_3d = Descriptors3D.CalcMolDescriptors3D(mol_2).values()\n",
    "    features_2d = features_2d + [list(descriptor_values_2d)]\n",
    "    features_3d = features_3d + [list(descriptor_values_3d)]"
   ]
  },
  {
   "cell_type": "code",
   "execution_count": null,
   "id": "089645c1-62a5-42bf-987a-6aaf1ae52d18",
   "metadata": {},
   "outputs": [],
   "source": [
    "descriptor_names_2d = [i[0] for i in Descriptors._descList ]\n",
    "descriptor_names_3d = ['PMI1', 'PMI2', 'PMI3', 'NPR1', 'NPR2', 'RadiusOfGyration', 'InertialShapeFactor', 'Eccentricity', 'Asphericity', 'SpherocityIndex', 'PBF']\n",
    "features_2d = pandas.DataFrame(features_2d, columns = descriptor_names_2d, index = dataset[\"Name\"])\n",
    "features_3d = pandas.DataFrame(features_3d, columns = descriptor_names_3d, index = dataset[\"Name\"])\n",
    "features = pandas.concat([features_2d, features_3d], axis = 1)"
   ]
  },
  {
   "cell_type": "code",
   "execution_count": null,
   "id": "1ecbf5ac-1444-4a3a-a8a6-6091c8c8cb9f",
   "metadata": {},
   "outputs": [],
   "source": [
    "descriptors_shap_rfr_cmc = ['FpDensityMorgan3', 'BCUT2D_MRLOW', 'AvgIpc', 'PEOE_VSA6', 'SMR_VSA5', 'VSA_EState1', 'VSA_EState8', 'MolLogP', 'fr_Al_OH_noTert', 'PMI2'] "
   ]
  },
  {
   "cell_type": "code",
   "execution_count": null,
   "id": "781cb55b-2d2f-4f2d-a0ed-0fe7844cec32",
   "metadata": {},
   "outputs": [],
   "source": [
    "descriptors_shap_rfr_kl = ['MinAbsEStateIndex', 'qed', 'FpDensityMorgan1', 'BCUT2D_MWLOW', 'BCUT2D_CHGLO', 'Chi1n', 'PEOE_VSA3', 'PEOE_VSA6', 'SMR_VSA5', 'VSA_EState1', 'VSA_EState8', 'MolLogP', 'fr_Al_OH_noTert', 'PMI2'] "
   ]
  },
  {
   "cell_type": "code",
   "execution_count": null,
   "id": "6f3275c9-3a86-45e8-9b27-3e387766a34d",
   "metadata": {},
   "outputs": [],
   "source": [
    "descriptors_shap_rfr_maxsec = ['qed', 'FpDensityMorgan2', 'BCUT2D_MWLOW', 'AvgIpc', 'PEOE_VSA3', 'SlogP_VSA2', 'SlogP_VSA8', 'EState_VSA2', 'fr_COO2', 'fr_C_O', 'PMI1', 'PMI2', 'InertialShapeFactor', 'PBF']"
   ]
  },
  {
   "cell_type": "code",
   "execution_count": null,
   "id": "3501144e-244a-4577-92ff-4d927c5e5dbb",
   "metadata": {},
   "outputs": [],
   "source": [
    "selected_features_list_cmc = descriptors_shap_rfr_cmc\n",
    "selected_features_list_kl = descriptors_shap_rfr_kl\n",
    "selected_features_list_maxsec = descriptors_shap_rfr_maxsec"
   ]
  },
  {
   "cell_type": "code",
   "execution_count": null,
   "id": "af43bffe-297c-4a3a-86ce-9308656ca169",
   "metadata": {},
   "outputs": [],
   "source": [
    "filename_cmc = \"model_shap_rfr_cmc_y\"\n",
    "filename_kl = \"model_shap_rfr_kl_y\"\n",
    "filename_maxsec = \"model_shap_rfr_maxsec_y\""
   ]
  },
  {
   "cell_type": "code",
   "execution_count": null,
   "id": "b5aa8cde-e184-4f49-9711-24a25a715633",
   "metadata": {},
   "outputs": [],
   "source": [
    "results_list_cmc = []\n",
    "results_list_kl = []\n",
    "results_list_maxsec = []\n",
    "features_cmc = features[selected_features_list_cmc]\n",
    "features_kl = features[selected_features_list_kl]\n",
    "features_maxsec = features[selected_features_list_maxsec]\n",
    "with open(\"C:/Users/user/Saved_Models/\" + filename_cmc, 'rb') as file:\n",
    "    model = pickle.load(file)\n",
    "result_cmc = model.predict(features_cmc)\n",
    "results_list_cmc.append(list(result_cmc))\n",
    "with open(\"C:/Users/user/Saved_Models/\" + filename_kl, 'rb') as file:\n",
    "    model = pickle.load(file)\n",
    "result_kl = model.predict(features_kl)\n",
    "results_list_kl.append(list(result_kl))\n",
    "with open(\"C:/Users/user/Saved_Models/\" + filename_maxsec, 'rb') as file:\n",
    "    model = pickle.load(file)\n",
    "result_maxsec = model.predict(features_maxsec)\n",
    "results_list_maxsec.append(list(result_maxsec))"
   ]
  },
  {
   "cell_type": "code",
   "execution_count": null,
   "id": "13c06f5d-5230-4168-9973-82df35938f6d",
   "metadata": {},
   "outputs": [],
   "source": [
    "results_cmc = pandas.DataFrame(list(results_list_cmc),columns = dataset[\"Name\"]).transpose()\n",
    "results_cmc.columns = [filename_cmc]\n",
    "results_kl = pandas.DataFrame(list(results_list_kl),columns = dataset[\"Name\"]).transpose()\n",
    "results_kl.columns = [filename_kl]\n",
    "results_maxsec = pandas.DataFrame(list(results_list_maxsec),columns = dataset[\"Name\"]).transpose()\n",
    "results_maxsec.columns = [filename_maxsec]"
   ]
  },
  {
   "cell_type": "code",
   "execution_count": null,
   "id": "f3e1ff21-6f02-4aaa-9fb8-1c7bbea461bf",
   "metadata": {},
   "outputs": [],
   "source": [
    "R = 8.314\n",
    "T = 25 + 273\n",
    "sft_0 = 72 \n",
    "#sft = sft_0 - R * T * gamma_max * log (1 + KL * c)"
   ]
  },
  {
   "cell_type": "code",
   "execution_count": null,
   "id": "3bacb9c4-2804-4d94-9bad-881977e4eda4",
   "metadata": {},
   "outputs": [],
   "source": [
    "                # Single Figure for All Molecules\n",
    "for i in range(0,len(dataset.index)):\n",
    "    sft = []\n",
    "    log_c = []\n",
    "    for c in numpy.arange(0.000000000000001,10**(result_cmc[i]),0.0000001):\n",
    "        sft.append((sft_0 - R * T * result_maxsec[i]*(10**(-6))*(10**3) * log(1 + 1000*(10**result_kl[i]) * c)))\n",
    "    sft.append(sft_0 - R * T * result_maxsec[i]*(10**(-6))*(10**3) * log(1 + 1000*(10**result_kl[i]) * (10**result_cmc[i])))\n",
    "    conc = numpy.arange(0.000000000000001,10**(result_cmc[i]),0.0000001)\n",
    "    log_c =[log10(i) for i in conc]\n",
    "    log_c.append(0)\n",
    "    plt.plot(log_c, sft)\n",
    "plt.legend(dataset[\"Name\"], loc=\"lower left\")\n",
    "plt.ylabel(\"SFT (mN/m)\")\n",
    "plt.xlabel(\"Log(C)\")\n",
    "plt.xlim(-15,0)\n",
    "plt.ylim(0,80)\n",
    "plt.show()"
   ]
  },
  {
   "cell_type": "code",
   "execution_count": null,
   "id": "dbc09820-ef43-4980-9db8-8f1789f9ff1a",
   "metadata": {},
   "outputs": [],
   "source": [
    "                # A Separate Figure for Each Molecule\n",
    "for i in range(0,len(dataset.index)):\n",
    "    sft = []\n",
    "    log_c = []\n",
    "    for c in numpy.arange(0.000000000000001,10**(result_cmc[i]),0.0000001):\n",
    "        sft.append((sft_0 - R * T * result_maxsec[i]*(10**(-6))*(10**3) * log(1 + 1000*(10**result_kl[i]) * c)))\n",
    "    sft.append(sft_0 - R * T * result_maxsec[i]*(10**(-6))*(10**3) * log(1 + 1000*(10**result_kl[i]) * (10**result_cmc[i])))\n",
    "    conc = numpy.arange(0.000000000000001,10**(result_cmc[i]),0.0000001)\n",
    "    log_c =[log10(i) for i in conc]\n",
    "    log_c.append(0)\n",
    "    plt.plot(log_c, sft)\n",
    "    plt.title(dataset[\"Name\"][i])\n",
    "    plt.ylabel(\"SFT (mN/m)\")\n",
    "    plt.xlabel(\"Log(C)\")\n",
    "    plt.xlim(-15,0)\n",
    "    plt.ylim(0,80)\n",
    "    plt.show()"
   ]
  },
  {
   "cell_type": "code",
   "execution_count": null,
   "id": "08b0734a-6f18-42a9-bd49-dc0d5b7b7c87",
   "metadata": {},
   "outputs": [],
   "source": []
  }
 ],
 "metadata": {
  "kernelspec": {
   "display_name": "Python 3 (ipykernel)",
   "language": "python",
   "name": "python3"
  },
  "language_info": {
   "codemirror_mode": {
    "name": "ipython",
    "version": 3
   },
   "file_extension": ".py",
   "mimetype": "text/x-python",
   "name": "python",
   "nbconvert_exporter": "python",
   "pygments_lexer": "ipython3",
   "version": "3.11.7"
  }
 },
 "nbformat": 4,
 "nbformat_minor": 5
}
